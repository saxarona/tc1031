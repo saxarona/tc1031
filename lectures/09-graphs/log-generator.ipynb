{
 "cells": [
  {
   "cell_type": "markdown",
   "metadata": {},
   "source": [
    "# Randomiser for TC1031 Problem Situation"
   ]
  },
  {
   "cell_type": "markdown",
   "metadata": {},
   "source": [
    "This notebook intends to work as a log generator for the TC1031 Problem Situation.\n",
    "\n",
    "The original log file had a couple of issues like IPv4s going over the 255 limitation per octet and no repeated IP addresses, which makes it impossible to generate relations (for graph-like problems). This also made the BST kinda boring as no address was found more than once in the text file.\n",
    "\n",
    "Feel free to modify anything as you see fit.\n",
    "\n",
    "For your convenience, a couple of parameters are set near the beginning for you to play with."
   ]
  },
  {
   "cell_type": "code",
   "execution_count": 1,
   "metadata": {},
   "outputs": [],
   "source": [
    "import numpy as np\n",
    "import seaborn as sns # for plotting distributions\n",
    "from numpy.random import default_rng"
   ]
  },
  {
   "cell_type": "markdown",
   "metadata": {},
   "source": [
    "## Parameter setup"
   ]
  },
  {
   "cell_type": "code",
   "execution_count": 2,
   "metadata": {},
   "outputs": [],
   "source": [
    "n_samples = 13370  # total _likely_ unique IPs\n",
    "n_xtra_samples = 16807 - 13370  # number of repeated IPs\n",
    "filename = 'bitacora' # file name without extension\n",
    "\n",
    "# Date options\n",
    "monthoptions = ['Jun', 'Jul', 'Aug', 'Sep', 'Oct']\n",
    "maxday = 31  # high endpoint for the random integer function, excluded in order to avoid inexistent dates\n",
    "\n",
    "# Event descriptions\n",
    "msgoptions = ['Failed password for admin', 'Illegal user', 'Failed password for illegal user guest',\n",
    "             'Failed password for illegal user guest', 'Failed password for illegal user root']"
   ]
  },
  {
   "cell_type": "markdown",
   "metadata": {},
   "source": [
    "---\n",
    "\n",
    "## The code"
   ]
  },
  {
   "cell_type": "code",
   "execution_count": 3,
   "metadata": {},
   "outputs": [],
   "source": [
    "rng = default_rng()  # initialize random number generator"
   ]
  },
  {
   "cell_type": "markdown",
   "metadata": {},
   "source": [
    "We start by generating a `n_samples` $\\times$ 4 vector $\\sim U$ where $U$ is the Uniform distribution.\n",
    "\n",
    "Then we choose `n_extra_samples` from those `n_samples` and use them to extend our IP addresses.\n",
    "The distribution is plotted below."
   ]
  },
  {
   "cell_type": "code",
   "execution_count": 4,
   "metadata": {},
   "outputs": [
    {
     "data": {
      "text/plain": [
       "<AxesSubplot:>"
      ]
     },
     "execution_count": 4,
     "metadata": {},
     "output_type": "execute_result"
    },
    {
     "data": {
      "image/png": "[encoded data removed]",
      "text/plain": [
       "<Figure size 432x288 with 1 Axes>"
      ]
     },
     "metadata": {
      "needs_background": "light"
     },
     "output_type": "display_data"
    }
   ],
   "source": [
    "thenumbers = rng.integers(1, 255, (n_samples, 4))\n",
    "theextras = rng.choice(thenumbers, n_xtra_samples)\n",
    "thenumbers = np.vstack((thenumbers, theextras))\n",
    "sns.distplot(thenumbers, kde=False)"
   ]
  },
  {
   "cell_type": "markdown",
   "metadata": {},
   "source": [
    "Then let's generate the ports. Ideally it would be a 16-byte int, but we need to generate possible relations to use in a graph so let's cap that to something **smaller** than `n_samples` + `n_xtra_samples`. Let's say 10,000."
   ]
  },
  {
   "cell_type": "code",
   "execution_count": 5,
   "metadata": {},
   "outputs": [
    {
     "data": {
      "text/plain": [
       "<AxesSubplot:>"
      ]
     },
     "execution_count": 5,
     "metadata": {},
     "output_type": "execute_result"
    },
    {
     "data": {
      "image/png": "[encoded data removed]",
      "text/plain": [
       "<Figure size 432x288 with 1 Axes>"
      ]
     },
     "metadata": {
      "needs_background": "light"
     },
     "output_type": "display_data"
    }
   ],
   "source": [
    "theports = rng.integers(0, 10000, n_samples + n_xtra_samples)\n",
    "sns.distplot(theports, kde=False)"
   ]
  },
  {
   "cell_type": "markdown",
   "metadata": {},
   "source": [
    "We now convert IPv4 addresses from integer numbers to strings and show the first five entries."
   ]
  },
  {
   "cell_type": "code",
   "execution_count": 6,
   "metadata": {},
   "outputs": [
    {
     "data": {
      "text/plain": [
       "['80.169.79.65',\n",
       " '142.248.253.242',\n",
       " '143.19.143.159',\n",
       " '5.245.203.112',\n",
       " '183.79.11.2']"
      ]
     },
     "execution_count": 6,
     "metadata": {},
     "output_type": "execute_result"
    }
   ],
   "source": [
    "theips = ['.'.join(list((map(lambda x: str(x), thenumbers[i].tolist())))) for i in range(len(thenumbers))]\n",
    "theips[0:5]"
   ]
  },
  {
   "cell_type": "markdown",
   "metadata": {},
   "source": [
    "To generate the full adress we now concatenate the ports after a colon, and print the first five addresses"
   ]
  },
  {
   "cell_type": "code",
   "execution_count": 7,
   "metadata": {},
   "outputs": [
    {
     "data": {
      "text/plain": [
       "['80.169.79.65:1150',\n",
       " '142.248.253.242:2871',\n",
       " '143.19.143.159:6043',\n",
       " '5.245.203.112:1812',\n",
       " '183.79.11.2:84']"
      ]
     },
     "execution_count": 7,
     "metadata": {},
     "output_type": "execute_result"
    }
   ],
   "source": [
    "theaddresses = [theips[i] + ':' + str(theports[i]) for i in range(len(thenumbers))]\n",
    "theaddresses[0:5]"
   ]
  },
  {
   "cell_type": "markdown",
   "metadata": {},
   "source": [
    "Let's generate the timestamps.\n",
    "\n",
    "For this we again choose uniformly at random integers from 0-23 for hours, and 0-59 for minutes and seconds (since the `integers` method from the _numpy_ generator considers low and high endpoints as inclusive and exclusive, respectively. We use two digits for all three parts.\n",
    "\n",
    "Then we concatenate them in a single timestamp and print the first five."
   ]
  },
  {
   "cell_type": "code",
   "execution_count": 8,
   "metadata": {},
   "outputs": [
    {
     "data": {
      "text/plain": [
       "['12:58:18', '16:19:58', '18:49:57', '09:20:30', '21:30:11']"
      ]
     },
     "execution_count": 8,
     "metadata": {},
     "output_type": "execute_result"
    }
   ],
   "source": [
    "thehour = rng.integers(0, 24, n_samples + n_xtra_samples)\n",
    "themins = rng.integers(0, 60, n_samples + n_xtra_samples)\n",
    "thesecs = rng.integers(0, 60, n_samples + n_xtra_samples)\n",
    "\n",
    "thetime = list(map(lambda x, y, z: f'{x:02d}:{y:02d}:{z:02d}', thehour, themins, thesecs))\n",
    "thetime[0:5]"
   ]
  },
  {
   "cell_type": "markdown",
   "metadata": {},
   "source": [
    "To generate the dates, we use the same months originally available from `bitacora.txt` and then choose `n_samples` + `n_xtra_samples` to match the number of records previously defined. \n",
    "\n",
    "Days are generated from 1 to 30, using two digits to allow for fancy array-like access.\n",
    "\n",
    "After that, we concatenate both months and days to generate a date timestamp, and print the first five elements in the list."
   ]
  },
  {
   "cell_type": "code",
   "execution_count": 9,
   "metadata": {},
   "outputs": [
    {
     "data": {
      "text/plain": [
       "['Sep 23', 'Jul 09', 'Jul 04', 'Oct 17', 'Jul 13']"
      ]
     },
     "execution_count": 9,
     "metadata": {},
     "output_type": "execute_result"
    }
   ],
   "source": [
    "themonth = rng.choice(monthoptions, n_samples + n_xtra_samples)\n",
    "thedays = rng.integers(1, maxday, n_samples + n_xtra_samples)\n",
    "thedate = list(map(lambda x, y: f'{x} {y:02d}', themonth, thedays))\n",
    "thedate[0:5]"
   ]
  },
  {
   "cell_type": "markdown",
   "metadata": {},
   "source": [
    "Let's generate the error messages.\n",
    "For this we have a list of strings to choose from, and generate the same number of samples than before uniformly at random."
   ]
  },
  {
   "cell_type": "code",
   "execution_count": 10,
   "metadata": {},
   "outputs": [
    {
     "data": {
      "text/plain": [
       "array(['Failed password for illegal user root', 'Illegal user',\n",
       "       'Failed password for illegal user guest',\n",
       "       'Failed password for illegal user guest',\n",
       "       'Failed password for illegal user guest'], dtype='<U38')"
      ]
     },
     "execution_count": 10,
     "metadata": {},
     "output_type": "execute_result"
    }
   ],
   "source": [
    "thereason = rng.choice(msgoptions, n_samples + n_xtra_samples)\n",
    "thereason[0:5]"
   ]
  },
  {
   "cell_type": "markdown",
   "metadata": {},
   "source": [
    "Finally, we concatenate every substring in single string and add a new line character.\n",
    "The strings are added to a list as it is quite convenient to later dump into a file.\n",
    "\n",
    "We show the first 10 events."
   ]
  },
  {
   "cell_type": "code",
   "execution_count": 11,
   "metadata": {},
   "outputs": [
    {
     "data": {
      "text/plain": [
       "['Sep 23 12:58:18 80.169.79.65:1150 Failed password for illegal user root\\n',\n",
       " 'Jul 09 16:19:58 142.248.253.242:2871 Illegal user\\n',\n",
       " 'Jul 04 18:49:57 143.19.143.159:6043 Failed password for illegal user guest\\n',\n",
       " 'Oct 17 09:20:30 5.245.203.112:1812 Failed password for illegal user guest\\n',\n",
       " 'Jul 13 21:30:11 183.79.11.2:84 Failed password for illegal user guest\\n',\n",
       " 'Jul 24 18:43:58 75.208.238.89:5602 Failed password for illegal user root\\n',\n",
       " 'Oct 07 19:40:10 3.76.32.10:9563 Failed password for illegal user guest\\n',\n",
       " 'Aug 03 02:19:53 237.182.162.251:6483 Failed password for illegal user guest\\n',\n",
       " 'Oct 18 02:41:40 33.116.103.137:162 Failed password for illegal user guest\\n',\n",
       " 'Sep 18 00:45:20 200.40.196.20:8066 Illegal user\\n']"
      ]
     },
     "execution_count": 11,
     "metadata": {},
     "output_type": "execute_result"
    }
   ],
   "source": [
    "thelog = list(map(lambda date, time, ip, reason: f'{date} {time} {ip} {reason}\\n', thedate, thetime, theaddresses, thereason))\n",
    "thelog[0:10]"
   ]
  },
  {
   "cell_type": "markdown",
   "metadata": {},
   "source": [
    "---\n",
    "\n",
    "## File statistics"
   ]
  },
  {
   "cell_type": "code",
   "execution_count": 13,
   "metadata": {},
   "outputs": [
    {
     "name": "stdout",
     "output_type": "stream",
     "text": [
      "Number of events in the log file: 16807\n",
      "Number of unique IPs: 13370\n",
      "Number of unique ports: 8147\n",
      "Number of Unique dates: 150\n"
     ]
    }
   ],
   "source": [
    "print(f'Number of events in the log file: {len(thelog)}')\n",
    "print(f'Number of unique IPs: {np.unique(theips).size}')\n",
    "print(f'Number of unique ports: {np.unique(theports).size}')\n",
    "print(f'Number of Unique dates: {np.unique(thedate).size}')"
   ]
  },
  {
   "cell_type": "markdown",
   "metadata": {},
   "source": [
    "Let's save to a file with the chosen file name.\n",
    "\n",
    "The file has 16808 lines, as the last line is empy to comply with IEEE's POSIX standard."
   ]
  },
  {
   "cell_type": "code",
   "execution_count": 14,
   "metadata": {},
   "outputs": [],
   "source": [
    "with open(f'{filename}.txt', 'w') as myfile:\n",
    "    myfile.writelines(thelog)"
   ]
  }
 ],
 "metadata": {
  "kernelspec": {
   "display_name": "Python 3",
   "language": "python",
   "name": "python3"
  },
  "language_info": {
   "codemirror_mode": {
    "name": "ipython",
    "version": 3
   },
   "file_extension": ".py",
   "mimetype": "text/x-python",
   "name": "python",
   "nbconvert_exporter": "python",
   "pygments_lexer": "ipython3",
   "version": "3.7.4"
  }
 },
 "nbformat": 4,
 "nbformat_minor": 4
}
